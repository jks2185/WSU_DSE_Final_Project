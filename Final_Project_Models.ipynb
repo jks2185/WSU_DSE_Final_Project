{
  "cells": [
    {
      "cell_type": "code",
      "source": [
        "# Import the necessary libraries\n",
        "import pandas as pd\n",
        "import numpy as np\n",
        "import xgboost as xgb\n",
        "from sklearn.ensemble import RandomForestRegressor\n",
        "from sklearn.linear_model import LinearRegression\n",
        "from sklearn.model_selection import train_test_split\n",
        "from sklearn.metrics import r2_score, mean_squared_error\n",
        "\n",
        "\n",
        "df = pd.read_csv('https://storage.googleapis.com/eg3311/Prediction%20Model.csv')\n",
        "\n",
        "# Load the dataset\n",
        "data = df\n",
        "\n",
        "# Split the data into training and testing sets\n",
        "X_train, X_test, y_train, y_test = train_test_split(data[['Unemployment','Consumer price index','Customer Sentiment','Money Supply M2','Fed Funds','WTI Crude Oil']], data['Inflation'], test_size=0.3, random_state=42)\n",
        "\n",
        "# Create the linear regression model\n",
        "lr_model = LinearRegression()\n",
        "# Fit the model on the training data\n",
        "lr_model.fit(X_train, y_train)\n",
        "# Make predictions on the testing data\n",
        "y_pred_test = lr_model.predict(X_test)\n",
        "# calculate the mean squared error\n",
        "y_pred_mse = mean_squared_error(y_test, y_pred_test)\n",
        "print(\"Linear Mean Squared Error:\", y_pred_mse)\n",
        "\n",
        "\n",
        "# Create a random forest model\n",
        "rf_model = RandomForestRegressor(n_estimators=100, random_state=42)\n",
        "# Fit the model on the training data\n",
        "rf_model.fit(X_train, y_train)\n",
        "# Make predictions on the testing data\n",
        "rf_pred = rf_model.predict(X_test)\n",
        "# calculate the mean squared error\n",
        "rf_pred_mse = mean_squared_error(y_test, rf_pred)\n",
        "print(\"RF Mean Squared Error:\", rf_pred_mse)\n",
        "\n",
        "# Create the linear XGBoost model\n",
        "xgb_model = xgb.XGBRegressor(booster='gblinear', objective='reg:squarederror', random_state=42)\n",
        "# train the model on the training data\n",
        "xgb_model.fit(X_train, y_train)\n",
        "# make predictions on the testing data\n",
        "xgb_y_pred = xgb_model.predict(X_test)\n",
        "# calculate the mean squared error\n",
        "xgb_mse = mean_squared_error(y_test, xgb_y_pred)\n",
        "print(\"XGB Mean Squared Error:\", xgb_mse)"
      ],
      "metadata": {
        "colab": {
          "base_uri": "https://localhost:8080/"
        },
        "id": "1isc6DfV8hs-",
        "outputId": "5d43a653-6044-4fca-8b17-42780b4470af"
      },
      "execution_count": null,
      "outputs": [
        {
          "output_type": "stream",
          "name": "stdout",
          "text": [
            "Linear Mean Squared Error: 0.5957816957805088\n",
            "RF Mean Squared Error: 1.6515151977062914\n",
            "XGB Mean Squared Error: 0.9954694284666452\n"
          ]
        }
      ]
    }
  ],
  "metadata": {
    "colab": {
      "provenance": []
    },
    "gpuClass": "standard",
    "kernelspec": {
      "display_name": "Python 3",
      "name": "python3"
    }
  },
  "nbformat": 4,
  "nbformat_minor": 0
}