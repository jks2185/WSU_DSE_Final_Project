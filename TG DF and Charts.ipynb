{
 "cells": [
  {
   "cell_type": "markdown",
   "id": "8cc4c8bc-3fdb-459b-b4ca-16c9de37f9f0",
   "metadata": {},
   "source": [
    "Dataframes"
   ]
  },
  {
   "cell_type": "code",
   "execution_count": null,
   "id": "f945820b-5b67-48d3-930f-34ff2f464713",
   "metadata": {},
   "outputs": [],
   "source": [
    "#create third figure\n",
    "df_pie_region = df[['SURVEY YEAR','REGION OF RESIDENCE','CASE IDENTIFICATION NUMBER']]\n",
    "df_pie_region = df_pie_region.drop(index=df_pie_region[(df_pie_region['REGION OF RESIDENCE'] == '6') | (df_pie_region['REGION OF RESIDENCE'] == ' ')].index)\n",
    "df_pie_region['REGION OF RESIDENCE'] = df_pie_region['REGION OF RESIDENCE'].astype(int)\n",
    "df_pie_region['REGION OF RESIDENCE'] = df_pie_region['REGION OF RESIDENCE'].replace({1: 'West', 2: 'North Central', 3: 'Northeast',  4: 'South'})\n",
    "df_pie_region = df_pie_region.groupby(['REGION OF RESIDENCE','SURVEY YEAR',]).count().reset_index().sort_index()\n",
    "\n",
    "#create fourth figure\n",
    "df_index = df.groupby(['SURVEY YEAR']).mean().reset_index()\n",
    "\n",
    "#create fifth figure\n",
    "df_age_gender = df.groupby(['AGE OF RESPONDENT','SURVEY YEAR','SEX OF RESPONDENT']).mean().reset_index().sort_index()\n",
    "df_age_gender = df_age_gender.drop(index=df_age_gender [(df_age_gender ['SEX OF RESPONDENT'] == ' ')].index)\n",
    "df_age_gender['SEX OF RESPONDENT'] = df_age_gender['SEX OF RESPONDENT'].astype(int)\n",
    "df_age_gender['SEX OF RESPONDENT'] = df_age_gender['SEX OF RESPONDENT'].replace({1:'Male', 2:'Female'})\n",
    "\n",
    "#create sixth figure\n",
    "df_educ_reg =  df.groupby(['REGION OF RESIDENCE','EDUCATION OF RESPONDENT']).count().reset_index()\n",
    "df_educ_reg = df_educ_reg.drop(index=df_educ_reg[(df_educ_reg['REGION OF RESIDENCE'] == ' ')].index)\n",
    "df_educ_reg['REGION OF RESIDENCE'] = df_educ_reg['REGION OF RESIDENCE'].astype(int)\n",
    "df_educ_reg['REGION OF RESIDENCE'] = df_educ_reg['REGION OF RESIDENCE'].replace({1: 'West', 2: 'North Central', 3: 'Northeast',  4: 'South'})\n",
    "df_educ_reg = df_educ_reg.drop(index=df_educ_reg[(df_educ_reg['EDUCATION OF RESPONDENT'] == ' ')].index)\n",
    "df_educ_reg['EDUCATION OF RESPONDENT'] = df_educ_reg['EDUCATION OF RESPONDENT'].astype(int)\n",
    "df_educ_reg['EDUCATION OF RESPONDENT'] = df_educ_reg['EDUCATION OF RESPONDENT'].replace({'': np.nan,1: 'Grade 0-8 no hs diploma', 2: 'Grade 9-12 no hs diploma', 3: 'Grade 0-12 w/ hs diploma',  4: 'Grade 13-17 no col degree',  5: 'Grade 13-16 w/ col degree',  6: 'Grade 17 w/ col degree'})"
   ]
  },
  {
   "cell_type": "markdown",
   "id": "c4fc28fd-bbd2-4a18-9a60-a4bf71de84f2",
   "metadata": {},
   "source": [
    "Figures"
   ]
  },
  {
   "cell_type": "code",
   "execution_count": null,
   "id": "a40f4e5e-bf77-48fb-9c04-0fb4bdc77ca8",
   "metadata": {},
   "outputs": [],
   "source": [
    "fig1 = px.line(df_group, x='AGE OF RESPONDENT', y='TOTAL HOUSEHOLD INCOME - CURRENT DOLLARS', title='Total Income Based on Age')\n",
    "fig2 = px.bar(df_fin, x='AGE OF RESPONDENT', y=['PERSONAL FINANCES B/W NEXT YEAR', 'PERSONAL FINANCES B/W YEAR AGO'])\n",
    "fig3 = px.pie(df_pie_region, names = 'REGION OF RESIDENCE', values = 'CASE IDENTIFICATION NUMBER', title='Participants Region')\n",
    "fig4 = px.line(df_index, x='SURVEY YEAR', y=['INDEX OF CURRENT ECONOMIC CONDITIONS', 'INDEX OF CONSUMER SENTIMENT', 'INDEX OF CONSUMER EXPECTATIONS'], title='Sentiment over Time')\n",
    "fig5 = px.scatter(df_age_gender, x='TOTAL HOUSEHOLD INCOME - CURRENT DOLLARS', y='AGE OF RESPONDENT', color='SEX OF RESPONDENT', title='Average Income By Age and Gender', hover_name='CASE IDENTIFICATION NUMBER', log_x=True, size_max=10)  \n",
    "fig6 = px.bar(df_educ_reg, x='EDUCATION OF RESPONDENT', y='CASE IDENTIFICATION NUMBER', color='REGION OF RESIDENCE', title='Participants by Education and Region', barmode='group')"
   ]
  }
 ],
 "metadata": {
  "kernelspec": {
   "display_name": "Python 3 (ipykernel)",
   "language": "python",
   "name": "python3"
  },
  "language_info": {
   "codemirror_mode": {
    "name": "ipython",
    "version": 3
   },
   "file_extension": ".py",
   "mimetype": "text/x-python",
   "name": "python",
   "nbconvert_exporter": "python",
   "pygments_lexer": "ipython3",
   "version": "3.9.13"
  }
 },
 "nbformat": 4,
 "nbformat_minor": 5
}
