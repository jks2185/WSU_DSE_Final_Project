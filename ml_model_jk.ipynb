{
 "cells": [
  {
   "cell_type": "code",
   "execution_count": 2,
   "metadata": {},
   "outputs": [],
   "source": [
    "import pandas as pd\n",
    "import os\n",
    "import matplotlib.pyplot as plt\n",
    "import numpy as np\n",
    "import seaborn as sns\n",
    "%matplotlib inline"
   ]
  },
  {
   "cell_type": "code",
   "execution_count": 15,
   "metadata": {},
   "outputs": [
    {
     "name": "stderr",
     "output_type": "stream",
     "text": [
      "C:\\Users\\e707088\\AppData\\Local\\Temp\\ipykernel_25772\\2903414231.py:4: DtypeWarning: Columns (13,15,16,18,32,34,36,37,41,45,46,55,71,83,84,86,87,90,91,92,96,98,100,101,103,104,105,106,107,108,109) have mixed types. Specify dtype option on import or set low_memory=False.\n",
      "  df = pd.read_csv(data)\n"
     ]
    }
   ],
   "source": [
    "path = r'C:\\Users\\e707088\\Downloads'\n",
    "file_name = 'Customer Sentiment Data.csv'\n",
    "data = os.path.join(path, file_name)\n",
    "df = pd.read_csv(data)\n"
   ]
  },
  {
   "cell_type": "code",
   "execution_count": 16,
   "metadata": {},
   "outputs": [],
   "source": [
    "df = df.drop(['CASEID', 'YYYYQ', 'YYYYMM'], axis=1)\n",
    "s = df.corr().abs().unstack()"
   ]
  },
  {
   "cell_type": "code",
   "execution_count": 13,
   "metadata": {},
   "outputs": [
    {
     "data": {
      "text/plain": [
       "YYYYMM   YYYYMM     1.000000\n",
       "NEWS1    NEWS1      1.000000\n",
       "ICS      ICS        1.000000\n",
       "ICC      ICC        1.000000\n",
       "ICE      ICE        1.000000\n",
       "                      ...   \n",
       "HOM      NEWS2      0.000341\n",
       "HOMEAMT  WT         0.000234\n",
       "WT       HOMEAMT    0.000234\n",
       "UNEMP    WT         0.000108\n",
       "WT       UNEMP      0.000108\n",
       "Length: 841, dtype: float64"
      ]
     },
     "execution_count": 13,
     "metadata": {},
     "output_type": "execute_result"
    }
   ],
   "source": [
    "s.sort_values(kind='quicksort', ascending=False)"
   ]
  },
  {
   "cell_type": "code",
   "execution_count": 17,
   "metadata": {},
   "outputs": [],
   "source": [
    "s = s[s != 1]"
   ]
  },
  {
   "cell_type": "code",
   "execution_count": 22,
   "metadata": {},
   "outputs": [
    {
     "data": {
      "text/plain": [
       "YYYY     INCQFM     0.686135\n",
       "         HOMEAMT    0.622158\n",
       "         INVAMT     0.543287\n",
       "ICS      ICC        0.737843\n",
       "         ICE        0.887851\n",
       "         PAGO       0.580157\n",
       "         PEXP       0.476560\n",
       "         RINC       0.372532\n",
       "         BAGO       0.461268\n",
       "         BEXP       0.415927\n",
       "         BUS12      0.565783\n",
       "         UNEMP      0.360062\n",
       "         GOVT       0.387231\n",
       "         DUR        0.455548\n",
       "ICC      ICS        0.737843\n",
       "         PAGO       0.747411\n",
       "         PAGOR1     0.403850\n",
       "         DUR        0.651478\n",
       "ICE      ICS        0.887851\n",
       "         PEXP       0.510480\n",
       "         BAGO       0.434341\n",
       "         BEXP       0.469593\n",
       "         BUS12      0.619308\n",
       "         UNEMP      0.396950\n",
       "         GOVT       0.384121\n",
       "PAGO     ICS        0.580157\n",
       "         ICC        0.747411\n",
       "         PAGOR1     0.552050\n",
       "PAGOR1   ICC        0.403850\n",
       "         PAGO       0.552050\n",
       "PEXP     ICS        0.476560\n",
       "         ICE        0.510480\n",
       "RINC     ICS        0.372532\n",
       "BAGO     ICS        0.461268\n",
       "         ICE        0.434341\n",
       "         BUS12      0.355867\n",
       "BEXP     ICS        0.415927\n",
       "         ICE        0.469593\n",
       "BUS12    ICS        0.565783\n",
       "         ICE        0.619308\n",
       "         BAGO       0.355867\n",
       "NEWS1    NEWS2      0.474157\n",
       "NEWS2    NEWS1      0.474157\n",
       "UNEMP    ICS        0.360062\n",
       "         ICE        0.396950\n",
       "GOVT     ICS        0.387231\n",
       "         ICE        0.384121\n",
       "DUR      ICS        0.455548\n",
       "         ICC        0.651478\n",
       "INCQFM   YYYY       0.686135\n",
       "         HOMEAMT    0.366752\n",
       "         INVAMT     0.382980\n",
       "HOMEAMT  YYYY       0.622158\n",
       "         INCQFM     0.366752\n",
       "         INVAMT     0.475669\n",
       "INVAMT   YYYY       0.543287\n",
       "         INCQFM     0.382980\n",
       "         HOMEAMT    0.475669\n",
       "dtype: float64"
      ]
     },
     "execution_count": 22,
     "metadata": {},
     "output_type": "execute_result"
    }
   ],
   "source": [
    "s[s > .35]"
   ]
  },
  {
   "cell_type": "code",
   "execution_count": 24,
   "metadata": {},
   "outputs": [],
   "source": [
    "df_ml = df[['YYYY', 'ICS', 'ICC', 'ICE', 'PAGO', 'PEXP', 'RINC', 'BAGO', 'BEXP', 'BUS12', 'UNEMP', 'GOVT', 'DUR']]"
   ]
  },
  {
   "cell_type": "code",
   "execution_count": 25,
   "metadata": {},
   "outputs": [
    {
     "data": {
      "text/plain": [
       "Index(['YYYY', 'ICS', 'ICC', 'ICE', 'PAGO', 'PEXP', 'RINC', 'BAGO', 'BEXP',\n",
       "       'BUS12', 'UNEMP', 'GOVT', 'DUR'],\n",
       "      dtype='object')"
      ]
     },
     "execution_count": 25,
     "metadata": {},
     "output_type": "execute_result"
    }
   ],
   "source": [
    "df_ml.columns"
   ]
  },
  {
   "cell_type": "code",
   "execution_count": 26,
   "metadata": {},
   "outputs": [
    {
     "data": {
      "text/plain": [
       "pandas.core.frame.DataFrame"
      ]
     },
     "execution_count": 26,
     "metadata": {},
     "output_type": "execute_result"
    }
   ],
   "source": [
    "type(df_ml)"
   ]
  },
  {
   "cell_type": "code",
   "execution_count": 27,
   "metadata": {},
   "outputs": [
    {
     "data": {
      "text/plain": [
       "YYYY       int64\n",
       "ICS      float64\n",
       "ICC      float64\n",
       "ICE      float64\n",
       "PAGO       int64\n",
       "PEXP       int64\n",
       "RINC       int64\n",
       "BAGO       int64\n",
       "BEXP       int64\n",
       "BUS12      int64\n",
       "UNEMP      int64\n",
       "GOVT       int64\n",
       "DUR        int64\n",
       "dtype: object"
      ]
     },
     "execution_count": 27,
     "metadata": {},
     "output_type": "execute_result"
    }
   ],
   "source": [
    "df_ml.dtypes"
   ]
  },
  {
   "cell_type": "code",
   "execution_count": 29,
   "metadata": {},
   "outputs": [
    {
     "data": {
      "text/html": [
       "<div>\n",
       "<style scoped>\n",
       "    .dataframe tbody tr th:only-of-type {\n",
       "        vertical-align: middle;\n",
       "    }\n",
       "\n",
       "    .dataframe tbody tr th {\n",
       "        vertical-align: top;\n",
       "    }\n",
       "\n",
       "    .dataframe thead th {\n",
       "        text-align: right;\n",
       "    }\n",
       "</style>\n",
       "<table border=\"1\" class=\"dataframe\">\n",
       "  <thead>\n",
       "    <tr style=\"text-align: right;\">\n",
       "      <th></th>\n",
       "      <th>YYYY</th>\n",
       "      <th>ICS</th>\n",
       "      <th>ICC</th>\n",
       "      <th>ICE</th>\n",
       "      <th>PAGO</th>\n",
       "      <th>PEXP</th>\n",
       "      <th>RINC</th>\n",
       "      <th>BAGO</th>\n",
       "      <th>BEXP</th>\n",
       "      <th>BUS12</th>\n",
       "      <th>UNEMP</th>\n",
       "      <th>GOVT</th>\n",
       "      <th>DUR</th>\n",
       "    </tr>\n",
       "  </thead>\n",
       "  <tbody>\n",
       "    <tr>\n",
       "      <th>YYYY</th>\n",
       "      <td>1.000000</td>\n",
       "      <td>0.007334</td>\n",
       "      <td>-0.013089</td>\n",
       "      <td>0.019123</td>\n",
       "      <td>-0.009121</td>\n",
       "      <td>-0.009707</td>\n",
       "      <td>-0.005520</td>\n",
       "      <td>-0.022780</td>\n",
       "      <td>-0.020168</td>\n",
       "      <td>-0.007360</td>\n",
       "      <td>0.077203</td>\n",
       "      <td>0.012848</td>\n",
       "      <td>-0.014265</td>\n",
       "    </tr>\n",
       "    <tr>\n",
       "      <th>ICS</th>\n",
       "      <td>0.007334</td>\n",
       "      <td>1.000000</td>\n",
       "      <td>0.737843</td>\n",
       "      <td>0.887851</td>\n",
       "      <td>-0.580157</td>\n",
       "      <td>-0.476560</td>\n",
       "      <td>-0.372532</td>\n",
       "      <td>-0.461268</td>\n",
       "      <td>-0.415927</td>\n",
       "      <td>-0.565783</td>\n",
       "      <td>0.360062</td>\n",
       "      <td>-0.387231</td>\n",
       "      <td>-0.455548</td>\n",
       "    </tr>\n",
       "    <tr>\n",
       "      <th>ICC</th>\n",
       "      <td>-0.013089</td>\n",
       "      <td>0.737843</td>\n",
       "      <td>1.000000</td>\n",
       "      <td>0.344518</td>\n",
       "      <td>-0.747411</td>\n",
       "      <td>-0.223469</td>\n",
       "      <td>-0.253846</td>\n",
       "      <td>-0.303960</td>\n",
       "      <td>-0.159740</td>\n",
       "      <td>-0.245864</td>\n",
       "      <td>0.152321</td>\n",
       "      <td>-0.226572</td>\n",
       "      <td>-0.651478</td>\n",
       "    </tr>\n",
       "    <tr>\n",
       "      <th>ICE</th>\n",
       "      <td>0.019123</td>\n",
       "      <td>0.887851</td>\n",
       "      <td>0.344518</td>\n",
       "      <td>1.000000</td>\n",
       "      <td>-0.297397</td>\n",
       "      <td>-0.510480</td>\n",
       "      <td>-0.345087</td>\n",
       "      <td>-0.434341</td>\n",
       "      <td>-0.469593</td>\n",
       "      <td>-0.619308</td>\n",
       "      <td>0.396950</td>\n",
       "      <td>-0.384121</td>\n",
       "      <td>-0.189479</td>\n",
       "    </tr>\n",
       "    <tr>\n",
       "      <th>PAGO</th>\n",
       "      <td>-0.009121</td>\n",
       "      <td>-0.580157</td>\n",
       "      <td>-0.747411</td>\n",
       "      <td>-0.297397</td>\n",
       "      <td>1.000000</td>\n",
       "      <td>0.227587</td>\n",
       "      <td>0.272717</td>\n",
       "      <td>0.260824</td>\n",
       "      <td>0.129970</td>\n",
       "      <td>0.207853</td>\n",
       "      <td>-0.127426</td>\n",
       "      <td>0.197407</td>\n",
       "      <td>0.140853</td>\n",
       "    </tr>\n",
       "    <tr>\n",
       "      <th>PEXP</th>\n",
       "      <td>-0.009707</td>\n",
       "      <td>-0.476560</td>\n",
       "      <td>-0.223469</td>\n",
       "      <td>-0.510480</td>\n",
       "      <td>0.227587</td>\n",
       "      <td>1.000000</td>\n",
       "      <td>0.345550</td>\n",
       "      <td>0.188294</td>\n",
       "      <td>0.261941</td>\n",
       "      <td>0.225273</td>\n",
       "      <td>-0.116679</td>\n",
       "      <td>0.179748</td>\n",
       "      <td>0.123286</td>\n",
       "    </tr>\n",
       "    <tr>\n",
       "      <th>RINC</th>\n",
       "      <td>-0.005520</td>\n",
       "      <td>-0.372532</td>\n",
       "      <td>-0.253846</td>\n",
       "      <td>-0.345087</td>\n",
       "      <td>0.272717</td>\n",
       "      <td>0.345550</td>\n",
       "      <td>1.000000</td>\n",
       "      <td>0.174223</td>\n",
       "      <td>0.205756</td>\n",
       "      <td>0.208299</td>\n",
       "      <td>-0.117233</td>\n",
       "      <td>0.190451</td>\n",
       "      <td>0.119745</td>\n",
       "    </tr>\n",
       "    <tr>\n",
       "      <th>BAGO</th>\n",
       "      <td>-0.022780</td>\n",
       "      <td>-0.461268</td>\n",
       "      <td>-0.303960</td>\n",
       "      <td>-0.434341</td>\n",
       "      <td>0.260824</td>\n",
       "      <td>0.188294</td>\n",
       "      <td>0.174223</td>\n",
       "      <td>1.000000</td>\n",
       "      <td>0.272512</td>\n",
       "      <td>0.355867</td>\n",
       "      <td>-0.259174</td>\n",
       "      <td>0.280372</td>\n",
       "      <td>0.179685</td>\n",
       "    </tr>\n",
       "    <tr>\n",
       "      <th>BEXP</th>\n",
       "      <td>-0.020168</td>\n",
       "      <td>-0.415927</td>\n",
       "      <td>-0.159740</td>\n",
       "      <td>-0.469593</td>\n",
       "      <td>0.129970</td>\n",
       "      <td>0.261941</td>\n",
       "      <td>0.205756</td>\n",
       "      <td>0.272512</td>\n",
       "      <td>1.000000</td>\n",
       "      <td>0.337077</td>\n",
       "      <td>-0.287947</td>\n",
       "      <td>0.268097</td>\n",
       "      <td>0.120619</td>\n",
       "    </tr>\n",
       "    <tr>\n",
       "      <th>BUS12</th>\n",
       "      <td>-0.007360</td>\n",
       "      <td>-0.565783</td>\n",
       "      <td>-0.245864</td>\n",
       "      <td>-0.619308</td>\n",
       "      <td>0.207853</td>\n",
       "      <td>0.225273</td>\n",
       "      <td>0.208299</td>\n",
       "      <td>0.355867</td>\n",
       "      <td>0.337077</td>\n",
       "      <td>1.000000</td>\n",
       "      <td>-0.228370</td>\n",
       "      <td>0.284770</td>\n",
       "      <td>0.169417</td>\n",
       "    </tr>\n",
       "    <tr>\n",
       "      <th>UNEMP</th>\n",
       "      <td>0.077203</td>\n",
       "      <td>0.360062</td>\n",
       "      <td>0.152321</td>\n",
       "      <td>0.396950</td>\n",
       "      <td>-0.127426</td>\n",
       "      <td>-0.116679</td>\n",
       "      <td>-0.117233</td>\n",
       "      <td>-0.259174</td>\n",
       "      <td>-0.287947</td>\n",
       "      <td>-0.228370</td>\n",
       "      <td>1.000000</td>\n",
       "      <td>-0.219509</td>\n",
       "      <td>-0.066916</td>\n",
       "    </tr>\n",
       "    <tr>\n",
       "      <th>GOVT</th>\n",
       "      <td>0.012848</td>\n",
       "      <td>-0.387231</td>\n",
       "      <td>-0.226572</td>\n",
       "      <td>-0.384121</td>\n",
       "      <td>0.197407</td>\n",
       "      <td>0.179748</td>\n",
       "      <td>0.190451</td>\n",
       "      <td>0.280372</td>\n",
       "      <td>0.268097</td>\n",
       "      <td>0.284770</td>\n",
       "      <td>-0.219509</td>\n",
       "      <td>1.000000</td>\n",
       "      <td>0.141221</td>\n",
       "    </tr>\n",
       "    <tr>\n",
       "      <th>DUR</th>\n",
       "      <td>-0.014265</td>\n",
       "      <td>-0.455548</td>\n",
       "      <td>-0.651478</td>\n",
       "      <td>-0.189479</td>\n",
       "      <td>0.140853</td>\n",
       "      <td>0.123286</td>\n",
       "      <td>0.119745</td>\n",
       "      <td>0.179685</td>\n",
       "      <td>0.120619</td>\n",
       "      <td>0.169417</td>\n",
       "      <td>-0.066916</td>\n",
       "      <td>0.141221</td>\n",
       "      <td>1.000000</td>\n",
       "    </tr>\n",
       "  </tbody>\n",
       "</table>\n",
       "</div>"
      ],
      "text/plain": [
       "           YYYY       ICS       ICC       ICE      PAGO      PEXP      RINC  \\\n",
       "YYYY   1.000000  0.007334 -0.013089  0.019123 -0.009121 -0.009707 -0.005520   \n",
       "ICS    0.007334  1.000000  0.737843  0.887851 -0.580157 -0.476560 -0.372532   \n",
       "ICC   -0.013089  0.737843  1.000000  0.344518 -0.747411 -0.223469 -0.253846   \n",
       "ICE    0.019123  0.887851  0.344518  1.000000 -0.297397 -0.510480 -0.345087   \n",
       "PAGO  -0.009121 -0.580157 -0.747411 -0.297397  1.000000  0.227587  0.272717   \n",
       "PEXP  -0.009707 -0.476560 -0.223469 -0.510480  0.227587  1.000000  0.345550   \n",
       "RINC  -0.005520 -0.372532 -0.253846 -0.345087  0.272717  0.345550  1.000000   \n",
       "BAGO  -0.022780 -0.461268 -0.303960 -0.434341  0.260824  0.188294  0.174223   \n",
       "BEXP  -0.020168 -0.415927 -0.159740 -0.469593  0.129970  0.261941  0.205756   \n",
       "BUS12 -0.007360 -0.565783 -0.245864 -0.619308  0.207853  0.225273  0.208299   \n",
       "UNEMP  0.077203  0.360062  0.152321  0.396950 -0.127426 -0.116679 -0.117233   \n",
       "GOVT   0.012848 -0.387231 -0.226572 -0.384121  0.197407  0.179748  0.190451   \n",
       "DUR   -0.014265 -0.455548 -0.651478 -0.189479  0.140853  0.123286  0.119745   \n",
       "\n",
       "           BAGO      BEXP     BUS12     UNEMP      GOVT       DUR  \n",
       "YYYY  -0.022780 -0.020168 -0.007360  0.077203  0.012848 -0.014265  \n",
       "ICS   -0.461268 -0.415927 -0.565783  0.360062 -0.387231 -0.455548  \n",
       "ICC   -0.303960 -0.159740 -0.245864  0.152321 -0.226572 -0.651478  \n",
       "ICE   -0.434341 -0.469593 -0.619308  0.396950 -0.384121 -0.189479  \n",
       "PAGO   0.260824  0.129970  0.207853 -0.127426  0.197407  0.140853  \n",
       "PEXP   0.188294  0.261941  0.225273 -0.116679  0.179748  0.123286  \n",
       "RINC   0.174223  0.205756  0.208299 -0.117233  0.190451  0.119745  \n",
       "BAGO   1.000000  0.272512  0.355867 -0.259174  0.280372  0.179685  \n",
       "BEXP   0.272512  1.000000  0.337077 -0.287947  0.268097  0.120619  \n",
       "BUS12  0.355867  0.337077  1.000000 -0.228370  0.284770  0.169417  \n",
       "UNEMP -0.259174 -0.287947 -0.228370  1.000000 -0.219509 -0.066916  \n",
       "GOVT   0.280372  0.268097  0.284770 -0.219509  1.000000  0.141221  \n",
       "DUR    0.179685  0.120619  0.169417 -0.066916  0.141221  1.000000  "
      ]
     },
     "execution_count": 29,
     "metadata": {},
     "output_type": "execute_result"
    }
   ],
   "source": [
    "df_ml.corr()"
   ]
  },
  {
   "cell_type": "code",
   "execution_count": 50,
   "metadata": {},
   "outputs": [],
   "source": [
    "import pandas as pd\n",
    "from sklearn.model_selection import train_test_split\n",
    "from sklearn.linear_model import LinearRegression\n",
    "from sklearn.ensemble import RandomForestRegressor\n",
    "from xgboost import XGBRegressor\n",
    "from sklearn.metrics import mean_squared_error\n",
    "import xgboost as xgb"
   ]
  },
  {
   "cell_type": "code",
   "execution_count": 45,
   "metadata": {},
   "outputs": [
    {
     "data": {
      "text/html": [
       "<div>\n",
       "<style scoped>\n",
       "    .dataframe tbody tr th:only-of-type {\n",
       "        vertical-align: middle;\n",
       "    }\n",
       "\n",
       "    .dataframe tbody tr th {\n",
       "        vertical-align: top;\n",
       "    }\n",
       "\n",
       "    .dataframe thead th {\n",
       "        text-align: right;\n",
       "    }\n",
       "</style>\n",
       "<table border=\"1\" class=\"dataframe\">\n",
       "  <thead>\n",
       "    <tr style=\"text-align: right;\">\n",
       "      <th></th>\n",
       "      <th>YYYY</th>\n",
       "      <th>ICC</th>\n",
       "      <th>ICE</th>\n",
       "      <th>PAGO</th>\n",
       "      <th>PEXP</th>\n",
       "      <th>RINC</th>\n",
       "      <th>BAGO</th>\n",
       "      <th>BEXP</th>\n",
       "      <th>BUS12</th>\n",
       "      <th>UNEMP</th>\n",
       "      <th>GOVT</th>\n",
       "      <th>DUR</th>\n",
       "    </tr>\n",
       "  </thead>\n",
       "  <tbody>\n",
       "    <tr>\n",
       "      <th>0</th>\n",
       "      <td>1978</td>\n",
       "      <td>116.23</td>\n",
       "      <td>51.32</td>\n",
       "      <td>3</td>\n",
       "      <td>5</td>\n",
       "      <td>5</td>\n",
       "      <td>3</td>\n",
       "      <td>3</td>\n",
       "      <td>5</td>\n",
       "      <td>1</td>\n",
       "      <td>5</td>\n",
       "      <td>1</td>\n",
       "    </tr>\n",
       "    <tr>\n",
       "      <th>1</th>\n",
       "      <td>1978</td>\n",
       "      <td>154.08</td>\n",
       "      <td>99.94</td>\n",
       "      <td>1</td>\n",
       "      <td>1</td>\n",
       "      <td>5</td>\n",
       "      <td>1</td>\n",
       "      <td>1</td>\n",
       "      <td>3</td>\n",
       "      <td>3</td>\n",
       "      <td>3</td>\n",
       "      <td>1</td>\n",
       "    </tr>\n",
       "    <tr>\n",
       "      <th>2</th>\n",
       "      <td>1978</td>\n",
       "      <td>2.70</td>\n",
       "      <td>2.70</td>\n",
       "      <td>5</td>\n",
       "      <td>5</td>\n",
       "      <td>5</td>\n",
       "      <td>3</td>\n",
       "      <td>3</td>\n",
       "      <td>5</td>\n",
       "      <td>3</td>\n",
       "      <td>5</td>\n",
       "      <td>5</td>\n",
       "    </tr>\n",
       "    <tr>\n",
       "      <th>3</th>\n",
       "      <td>1978</td>\n",
       "      <td>154.08</td>\n",
       "      <td>27.01</td>\n",
       "      <td>1</td>\n",
       "      <td>3</td>\n",
       "      <td>3</td>\n",
       "      <td>5</td>\n",
       "      <td>3</td>\n",
       "      <td>5</td>\n",
       "      <td>3</td>\n",
       "      <td>5</td>\n",
       "      <td>1</td>\n",
       "    </tr>\n",
       "    <tr>\n",
       "      <th>4</th>\n",
       "      <td>1978</td>\n",
       "      <td>116.23</td>\n",
       "      <td>124.25</td>\n",
       "      <td>3</td>\n",
       "      <td>3</td>\n",
       "      <td>3</td>\n",
       "      <td>3</td>\n",
       "      <td>3</td>\n",
       "      <td>1</td>\n",
       "      <td>3</td>\n",
       "      <td>9</td>\n",
       "      <td>1</td>\n",
       "    </tr>\n",
       "  </tbody>\n",
       "</table>\n",
       "</div>"
      ],
      "text/plain": [
       "   YYYY     ICC     ICE  PAGO  PEXP  RINC  BAGO  BEXP  BUS12  UNEMP  GOVT  DUR\n",
       "0  1978  116.23   51.32     3     5     5     3     3      5      1     5    1\n",
       "1  1978  154.08   99.94     1     1     5     1     1      3      3     3    1\n",
       "2  1978    2.70    2.70     5     5     5     3     3      5      3     5    5\n",
       "3  1978  154.08   27.01     1     3     3     5     3      5      3     5    1\n",
       "4  1978  116.23  124.25     3     3     3     3     3      1      3     9    1"
      ]
     },
     "execution_count": 45,
     "metadata": {},
     "output_type": "execute_result"
    }
   ],
   "source": [
    "X = df_ml[['YYYY', 'ICC', 'ICE', 'PAGO', 'PEXP', 'RINC', 'BAGO', 'BEXP', 'BUS12', 'UNEMP', 'GOVT', 'DUR']]\n",
    "y = df_ml['ICS']\n",
    "X.head()"
   ]
  },
  {
   "cell_type": "code",
   "execution_count": 35,
   "metadata": {},
   "outputs": [],
   "source": [
    "X_train, X_test, y_train, y_test = train_test_split(X, y, test_size=0.2, random_state=42)"
   ]
  },
  {
   "cell_type": "code",
   "execution_count": 36,
   "metadata": {},
   "outputs": [
    {
     "name": "stdout",
     "output_type": "stream",
     "text": [
      "Linear regression MSE: 8.632443801613738e-06\n",
      "Random forest MSE: 8.75549826786961e-07\n",
      "XGBoost MSE: 7.813577744082172e-06\n"
     ]
    }
   ],
   "source": [
    "# Fit a linear regression model\n",
    "linear_model = LinearRegression()\n",
    "linear_model.fit(X_train, y_train)\n",
    "linear_pred = linear_model.predict(X_test)\n",
    "\n",
    "# Fit a random forest model\n",
    "rf_model = RandomForestRegressor(n_estimators=100, random_state=42)\n",
    "rf_model.fit(X_train, y_train)\n",
    "rf_pred = rf_model.predict(X_test)\n",
    "\n",
    "# Fit an XGBoost model\n",
    "xgb_model = XGBRegressor(n_estimators=100, random_state=42)\n",
    "xgb_model.fit(X_train, y_train)\n",
    "xgb_pred = xgb_model.predict(X_test)\n",
    "\n",
    "# Calculate mean squared error for each model\n",
    "linear_mse = mean_squared_error(y_test, linear_pred)\n",
    "rf_mse = mean_squared_error(y_test, rf_pred)\n",
    "xgb_mse = mean_squared_error(y_test, xgb_pred)\n",
    "\n",
    "# Print the results\n",
    "print(f\"Linear regression MSE: {linear_mse}\")\n",
    "print(f\"Random forest MSE: {rf_mse}\")\n",
    "print(f\"XGBoost MSE: {xgb_mse}\")"
   ]
  },
  {
   "cell_type": "code",
   "execution_count": 40,
   "metadata": {},
   "outputs": [
    {
     "data": {
      "text/plain": [
       "10368    -0.001387\n",
       "162240   -0.001340\n",
       "82479    -0.000935\n",
       "266151    0.004577\n",
       "106659    0.002649\n",
       "            ...   \n",
       "119879   -0.002602\n",
       "259178   -0.001405\n",
       "131932    0.000815\n",
       "146867    0.002713\n",
       "121958   -0.002873\n",
       "Name: ICS, Length: 248259, dtype: float64"
      ]
     },
     "execution_count": 40,
     "metadata": {},
     "output_type": "execute_result"
    }
   ],
   "source": [
    "y_pred = linear_model.predict(X_train)\n",
    "residuals = y_train - y_pred\n",
    "residuals"
   ]
  },
  {
   "cell_type": "code",
   "execution_count": 41,
   "metadata": {},
   "outputs": [
    {
     "data": {
      "text/plain": [
       "-5.510042519395302e-14"
      ]
     },
     "execution_count": 41,
     "metadata": {},
     "output_type": "execute_result"
    }
   ],
   "source": [
    "sum(residuals)/len(residuals) # mean residual"
   ]
  },
  {
   "cell_type": "code",
   "execution_count": 42,
   "metadata": {},
   "outputs": [
    {
     "data": {
      "text/plain": [
       "(0.005879951558576124, -0.007053097117747598)"
      ]
     },
     "execution_count": 42,
     "metadata": {},
     "output_type": "execute_result"
    }
   ],
   "source": [
    "max(residuals), min(residuals)"
   ]
  },
  {
   "cell_type": "code",
   "execution_count": 43,
   "metadata": {},
   "outputs": [
    {
     "data": {
      "image/png": "[encoded data removed]",
      "text/plain": [
       "<Figure size 432x288 with 1 Axes>"
      ]
     },
     "metadata": {
      "needs_background": "light"
     },
     "output_type": "display_data"
    }
   ],
   "source": [
    "import matplotlib.pyplot as plt\n",
    "plt.scatter(y_train, residuals)\n",
    "plt.xlabel('Actual Values')\n",
    "plt.ylabel('Residuals')\n",
    "plt.show()"
   ]
  },
  {
   "cell_type": "code",
   "execution_count": 51,
   "metadata": {},
   "outputs": [
    {
     "ename": "ValueError",
     "evalue": "('Expecting 2 dimensional numpy.ndarray, got: ', (12,))",
     "output_type": "error",
     "traceback": [
      "\u001b[1;31m---------------------------------------------------------------------------\u001b[0m",
      "\u001b[1;31mValueError\u001b[0m                                Traceback (most recent call last)",
      "\u001b[1;32mUntitled-2.ipynb Cell 20\u001b[0m in \u001b[0;36m<cell line: 1>\u001b[1;34m()\u001b[0m\n\u001b[1;32m----> <a href='vscode-notebook-cell:Untitled-2.ipynb?jupyter-notebook#X25sdW50aXRsZWQ%3D?line=0'>1</a>\u001b[0m xgb_model\u001b[39m.\u001b[39mpredict(xgb\u001b[39m.\u001b[39;49mDMatrix([\u001b[39m2025\u001b[39;49m, \u001b[39m112.12\u001b[39;49m, \u001b[39m114.2\u001b[39;49m, \u001b[39m1\u001b[39;49m, \u001b[39m2\u001b[39;49m, \u001b[39m3\u001b[39;49m, \u001b[39m4\u001b[39;49m, \u001b[39m5\u001b[39;49m, \u001b[39m3\u001b[39;49m, \u001b[39m2\u001b[39;49m, \u001b[39m2\u001b[39;49m, \u001b[39m2\u001b[39;49m]))\n",
      "File \u001b[1;32mc:\\Users\\e707088\\Anaconda3\\lib\\site-packages\\xgboost\\core.py:620\u001b[0m, in \u001b[0;36mrequire_keyword_args.<locals>.throw_if.<locals>.inner_f\u001b[1;34m(*args, **kwargs)\u001b[0m\n\u001b[0;32m    618\u001b[0m \u001b[39mfor\u001b[39;00m k, arg \u001b[39min\u001b[39;00m \u001b[39mzip\u001b[39m(sig\u001b[39m.\u001b[39mparameters, args):\n\u001b[0;32m    619\u001b[0m     kwargs[k] \u001b[39m=\u001b[39m arg\n\u001b[1;32m--> 620\u001b[0m \u001b[39mreturn\u001b[39;00m func(\u001b[39m*\u001b[39m\u001b[39m*\u001b[39mkwargs)\n",
      "File \u001b[1;32mc:\\Users\\e707088\\Anaconda3\\lib\\site-packages\\xgboost\\core.py:743\u001b[0m, in \u001b[0;36mDMatrix.__init__\u001b[1;34m(self, data, label, weight, base_margin, missing, silent, feature_names, feature_types, nthread, group, qid, label_lower_bound, label_upper_bound, feature_weights, enable_categorical)\u001b[0m\n\u001b[0;32m    740\u001b[0m     \u001b[39massert\u001b[39;00m \u001b[39mself\u001b[39m\u001b[39m.\u001b[39mhandle \u001b[39mis\u001b[39;00m \u001b[39mnot\u001b[39;00m \u001b[39mNone\u001b[39;00m\n\u001b[0;32m    741\u001b[0m     \u001b[39mreturn\u001b[39;00m\n\u001b[1;32m--> 743\u001b[0m handle, feature_names, feature_types \u001b[39m=\u001b[39m dispatch_data_backend(\n\u001b[0;32m    744\u001b[0m     data,\n\u001b[0;32m    745\u001b[0m     missing\u001b[39m=\u001b[39;49m\u001b[39mself\u001b[39;49m\u001b[39m.\u001b[39;49mmissing,\n\u001b[0;32m    746\u001b[0m     threads\u001b[39m=\u001b[39;49m\u001b[39mself\u001b[39;49m\u001b[39m.\u001b[39;49mnthread,\n\u001b[0;32m    747\u001b[0m     feature_names\u001b[39m=\u001b[39;49mfeature_names,\n\u001b[0;32m    748\u001b[0m     feature_types\u001b[39m=\u001b[39;49mfeature_types,\n\u001b[0;32m    749\u001b[0m     enable_categorical\u001b[39m=\u001b[39;49menable_categorical,\n\u001b[0;32m    750\u001b[0m )\n\u001b[0;32m    751\u001b[0m \u001b[39massert\u001b[39;00m handle \u001b[39mis\u001b[39;00m \u001b[39mnot\u001b[39;00m \u001b[39mNone\u001b[39;00m\n\u001b[0;32m    752\u001b[0m \u001b[39mself\u001b[39m\u001b[39m.\u001b[39mhandle \u001b[39m=\u001b[39m handle\n",
      "File \u001b[1;32mc:\\Users\\e707088\\Anaconda3\\lib\\site-packages\\xgboost\\data.py:953\u001b[0m, in \u001b[0;36mdispatch_data_backend\u001b[1;34m(data, missing, threads, feature_names, feature_types, enable_categorical)\u001b[0m\n\u001b[0;32m    951\u001b[0m     \u001b[39mreturn\u001b[39;00m _from_uri(data, missing, feature_names, feature_types)\n\u001b[0;32m    952\u001b[0m \u001b[39mif\u001b[39;00m _is_list(data):\n\u001b[1;32m--> 953\u001b[0m     \u001b[39mreturn\u001b[39;00m _from_list(data, missing, threads, feature_names, feature_types)\n\u001b[0;32m    954\u001b[0m \u001b[39mif\u001b[39;00m _is_tuple(data):\n\u001b[0;32m    955\u001b[0m     \u001b[39mreturn\u001b[39;00m _from_tuple(data, missing, threads, feature_names, feature_types)\n",
      "File \u001b[1;32mc:\\Users\\e707088\\Anaconda3\\lib\\site-packages\\xgboost\\data.py:886\u001b[0m, in \u001b[0;36m_from_list\u001b[1;34m(data, missing, n_threads, feature_names, feature_types)\u001b[0m\n\u001b[0;32m    884\u001b[0m array \u001b[39m=\u001b[39m np\u001b[39m.\u001b[39marray(data)\n\u001b[0;32m    885\u001b[0m _check_data_shape(data)\n\u001b[1;32m--> 886\u001b[0m \u001b[39mreturn\u001b[39;00m _from_numpy_array(array, missing, n_threads, feature_names, feature_types)\n",
      "File \u001b[1;32mc:\\Users\\e707088\\Anaconda3\\lib\\site-packages\\xgboost\\data.py:190\u001b[0m, in \u001b[0;36m_from_numpy_array\u001b[1;34m(data, missing, nthread, feature_names, feature_types)\u001b[0m\n\u001b[0;32m    186\u001b[0m \u001b[39m\"\"\"Initialize data from a 2-D numpy matrix.\u001b[39;00m\n\u001b[0;32m    187\u001b[0m \n\u001b[0;32m    188\u001b[0m \u001b[39m\"\"\"\u001b[39;00m\n\u001b[0;32m    189\u001b[0m \u001b[39mif\u001b[39;00m \u001b[39mlen\u001b[39m(data\u001b[39m.\u001b[39mshape) \u001b[39m!=\u001b[39m \u001b[39m2\u001b[39m:\n\u001b[1;32m--> 190\u001b[0m     \u001b[39mraise\u001b[39;00m \u001b[39mValueError\u001b[39;00m(\n\u001b[0;32m    191\u001b[0m         \u001b[39m\"\u001b[39m\u001b[39mExpecting 2 dimensional numpy.ndarray, got: \u001b[39m\u001b[39m\"\u001b[39m, data\u001b[39m.\u001b[39mshape\n\u001b[0;32m    192\u001b[0m     )\n\u001b[0;32m    193\u001b[0m data, _ \u001b[39m=\u001b[39m _ensure_np_dtype(data, data\u001b[39m.\u001b[39mdtype)\n\u001b[0;32m    194\u001b[0m handle \u001b[39m=\u001b[39m ctypes\u001b[39m.\u001b[39mc_void_p()\n",
      "\u001b[1;31mValueError\u001b[0m: ('Expecting 2 dimensional numpy.ndarray, got: ', (12,))"
     ]
    }
   ],
   "source": [
    "xgb_model.predict(xgb.DMatrix([2025, 112.12, 114.2, 1, 2, 3, 4, 5, 3, 2, 2, 2]))"
   ]
  },
  {
   "cell_type": "code",
   "execution_count": null,
   "metadata": {},
   "outputs": [],
   "source": []
  }
 ],
 "metadata": {
  "kernelspec": {
   "display_name": "base",
   "language": "python",
   "name": "python3"
  },
  "language_info": {
   "codemirror_mode": {
    "name": "ipython",
    "version": 3
   },
   "file_extension": ".py",
   "mimetype": "text/x-python",
   "name": "python",
   "nbconvert_exporter": "python",
   "pygments_lexer": "ipython3",
   "version": "3.9.12"
  },
  "orig_nbformat": 4
 },
 "nbformat": 4,
 "nbformat_minor": 2
}
